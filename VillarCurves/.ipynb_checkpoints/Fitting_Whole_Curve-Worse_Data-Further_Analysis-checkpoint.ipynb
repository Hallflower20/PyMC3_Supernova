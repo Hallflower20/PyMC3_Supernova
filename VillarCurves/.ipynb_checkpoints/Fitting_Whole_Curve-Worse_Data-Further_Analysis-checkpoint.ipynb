{
 "cells": [
  {
   "cell_type": "code",
   "execution_count": null,
   "metadata": {},
   "outputs": [],
   "source": [
    "%matplotlib inline\n",
    "import numpy as np\n",
    "import theano.tensor as tt\n",
    "import pymc3 as pm\n",
    "from scipy import stats\n",
    "\n",
    "import seaborn as sns\n",
    "import matplotlib.pyplot as plt\n",
    "\n",
    "sns.set_context('notebook')\n",
    "plt.style.use('seaborn-darkgrid')\n",
    "print('Running on PyMC3 v{}'.format(pm.__version__))\n",
    "core_count = 12"
   ]
  },
  {
   "cell_type": "code",
   "execution_count": null,
   "metadata": {},
   "outputs": [],
   "source": [
    "def SuperNova_CurveRise(t, A, B, t0, trise):\n",
    "    return ((A+B*(t-t0))/(1+np.exp(-(t-t0)/trise)))\n",
    "def SuperNova_CurveFall(t, A, B, t0, t1, trise, tfall):\n",
    "    return (A + B*(t1-t0))*np.exp(-(t-t1)/tfall)/(1+np.exp(-(t-t0)/trise))"
   ]
  },
  {
   "cell_type": "code",
   "execution_count": null,
   "metadata": {},
   "outputs": [],
   "source": [
    "#These are the values we are going to use for a test\n",
    "np.random.seed(212)\n",
    "trise_A = .7\n",
    "tfall_A = 6\n",
    "Amplitude_A = 12\n",
    "Beta_A = -1\n",
    "t0_A = 3.7\n",
    "t1_A = 8\n",
    "end_A = 30\n",
    "size = 10 #data set size double for total observations\n",
    "sigma_A = 1 #Telescope error"
   ]
  },
  {
   "cell_type": "code",
   "execution_count": null,
   "metadata": {},
   "outputs": [],
   "source": [
    "time_axis_rise = np.random.uniform(low=0, high=t1_A, size=size)\n",
    "time_axis_rise = np.sort(time_axis_rise)\n",
    "time_axis_fall = np.random.uniform(low=t1_A, high=end_A, size=size)\n",
    "time_axis_fall = np.sort(time_axis_fall)\n",
    "Y_actual_rise = SuperNova_CurveRise(time_axis_rise, Amplitude_A, Beta_A, t0_A, trise_A)\n",
    "Y_actual_fall = SuperNova_CurveFall(time_axis_fall, Amplitude_A, Beta_A, t0_A, t1_A, trise_A, tfall_A)\n",
    "time_axis = np.append(time_axis_rise, time_axis_fall)\n",
    "Y_actual = np.append(Y_actual_rise, Y_actual_fall)\n",
    "Y_observed = Y_actual + np.random.normal(0,sigma_A, len(Y_actual))"
   ]
  },
  {
   "cell_type": "code",
   "execution_count": null,
   "metadata": {},
   "outputs": [],
   "source": [
    "fig, axes = plt.subplots(1, 1, sharex=True, figsize=(10,4))\n",
    "axes.scatter(time_axis, Y_actual)\n",
    "\n",
    "big_time_axis_rise = np.linspace(0,t1_A,num = 100)\n",
    "axes.plot(big_time_axis_rise, SuperNova_CurveRise(big_time_axis_rise, Amplitude_A, Beta_A, t0_A, trise_A))\n",
    "\n",
    "big_time_axis_fall = np.linspace(t1_A,end_A,num = 100)\n",
    "axes.plot(big_time_axis_fall, SuperNova_CurveFall(big_time_axis_fall, Amplitude_A, Beta_A, t0_A, t1_A, trise_A, tfall_A))\n",
    "\n",
    "axes.set_ylabel('Y')\n",
    "axes.set_xlabel('X1')\n",
    "plt.title(\"Actual Light Curve\")"
   ]
  },
  {
   "cell_type": "code",
   "execution_count": null,
   "metadata": {},
   "outputs": [],
   "source": [
    "fig, axes = plt.subplots(1, 1, sharex=True, figsize=(10,4))\n",
    "axes.scatter(time_axis, Y_observed)\n",
    "\n",
    "big_time_axis_rise = np.linspace(0,t1_A,num = 100)\n",
    "axes.plot(big_time_axis_rise, SuperNova_CurveRise(big_time_axis_rise, Amplitude_A, Beta_A, t0_A, trise_A))\n",
    "\n",
    "big_time_axis_fall = np.linspace(t1_A,end_A,num = 100)\n",
    "axes.plot(big_time_axis_fall, SuperNova_CurveFall(big_time_axis_fall, Amplitude_A, Beta_A, t0_A, t1_A, trise_A, tfall_A))\n",
    "\n",
    "axes.set_ylabel('Y')\n",
    "axes.set_xlabel('X1')\n",
    "plt.title(\"Observed Light Curve\")"
   ]
  },
  {
   "cell_type": "code",
   "execution_count": null,
   "metadata": {},
   "outputs": [],
   "source": [
    "step = int(np.floor(size/2))\n",
    "slopes = []\n",
    "least_slope = (0, 0)\n",
    "for i in range(len(time_axis)-5):\n",
    "    slope, intercept, r_value, p_value, std_err = stats.linregress(time_axis[i:i+step],Y_observed[i:i+step])\n",
    "    slopes.append(slope)\n",
    "    if(slope < least_slope[1]):\n",
    "        least_slope = (time_axis[i+int(np.floor(step/2))], slope)\n",
    "print(least_slope)\n",
    "plt.scatter(time_axis[0:len(time_axis)-5], slopes)"
   ]
  },
  {
   "cell_type": "code",
   "execution_count": null,
   "metadata": {},
   "outputs": [],
   "source": [
    "basic_model = pm.Model()"
   ]
  },
  {
   "cell_type": "code",
   "execution_count": null,
   "metadata": {},
   "outputs": [],
   "source": [
    "with basic_model:\n",
    "\n",
    "    # Priors for unknown model parameters\n",
    "    AboveZeroBound = pm.Bound(pm.Normal, lower = 0.0)\n",
    "    BelowZeroBound = pm.Bound(pm.Normal, upper = 0.0)\n",
    "    trise = AboveZeroBound('trise', mu=0, sigma=10)\n",
    "    tfall = AboveZeroBound('tfall', mu=0, sigma=10)\n",
    "    Amplitude = AboveZeroBound('Amplitude', mu=np.max(Y_observed)-np.min(Y_observed), sigma=1)\n",
    "    Beta = BelowZeroBound('Beta', mu=-1, sigma=1)\n",
    "    t0 = AboveZeroBound('t0', mu=0, sigma=10)\n",
    "    t1 = pm.DiscreteUniform('t1', lower = np.min(time_axis), upper = np.max(time_axis), testval = least_slope[0])\n",
    "    sigma = pm.HalfNormal('sigma', sigma=sigma_A)\n",
    "    \n",
    "    # Expected value of outcome\n",
    "    mu_rise = SuperNova_CurveRise(time_axis, Amplitude, Beta, t0, trise)\n",
    "    mu_fall = SuperNova_CurveFall(time_axis, Amplitude, Beta, t0, t1, trise, tfall)\n",
    "    \n",
    "    mu_switch = pm.math.switch(t1 >= time_axis, mu_rise, mu_fall)\n",
    "\n",
    "    # Likelihood (sampling distribution) of observations\n",
    "    Y_obs = pm.Normal('Y_obs', mu=mu_switch, sigma=sigma, observed=Y_observed)"
   ]
  },
  {
   "cell_type": "code",
   "execution_count": null,
   "metadata": {},
   "outputs": [],
   "source": [
    "map_estimate = pm.find_MAP(model=basic_model)\n",
    "\n",
    "map_estimate"
   ]
  },
  {
   "cell_type": "code",
   "execution_count": null,
   "metadata": {},
   "outputs": [],
   "source": [
    "with basic_model:\n",
    "    # 1000 posterior samples\n",
    "    trace = pm.sample(10000)"
   ]
  },
  {
   "cell_type": "code",
   "execution_count": null,
   "metadata": {},
   "outputs": [],
   "source": [
    "%matplotlib inline\n",
    "pm.traceplot(trace)"
   ]
  },
  {
   "cell_type": "code",
   "execution_count": null,
   "metadata": {},
   "outputs": [],
   "source": [
    "summary_table = pm.summary(trace)\n",
    "pm.summary(trace)"
   ]
  },
  {
   "cell_type": "code",
   "execution_count": null,
   "metadata": {},
   "outputs": [],
   "source": [
    "trise_R = summary_table[\"mean\"][\"trise\"]\n",
    "tfall_R = summary_table[\"mean\"][\"tfall\"]\n",
    "Amplitude_R = summary_table[\"mean\"][\"Amplitude\"]\n",
    "Beta_R = summary_table[\"mean\"][\"Beta\"]\n",
    "t0_R = summary_table[\"mean\"][\"t0\"]\n",
    "t1_R = summary_table[\"mean\"][\"t1\"]"
   ]
  },
  {
   "cell_type": "code",
   "execution_count": null,
   "metadata": {},
   "outputs": [],
   "source": [
    "print(trise_R)\n",
    "print(tfall_R)\n",
    "print(Amplitude_R)\n",
    "print(Beta_R)\n",
    "print(t0_R)\n",
    "print(t1_R)"
   ]
  },
  {
   "cell_type": "code",
   "execution_count": null,
   "metadata": {},
   "outputs": [],
   "source": [
    "%matplotlib inline\n",
    "fig, ax = plt.subplots(figsize=(10,4))\n",
    "\n",
    "big_time_axis_rise = np.linspace(0,t1_R,num = 100)\n",
    "ax.plot(big_time_axis_rise, SuperNova_CurveRise(big_time_axis_rise, Amplitude_R, Beta_R, t0_R, trise_R))\n",
    "\n",
    "big_time_axis_fall = np.linspace(t1_R,end_A,num = 100)\n",
    "ax.plot(big_time_axis_fall, SuperNova_CurveFall(big_time_axis_fall, Amplitude_R, Beta_R, t0_R, t1_R, trise_R, tfall_R))\n",
    "\n",
    "ax.errorbar(time_axis, Y_observed, sigma_A, fmt='o')\n",
    "ax.set_xlabel('x')\n",
    "ax.set_ylabel('y_observed')"
   ]
  },
  {
   "cell_type": "code",
   "execution_count": null,
   "metadata": {},
   "outputs": [],
   "source": [
    "%matplotlib inline\n",
    "fig, ax = plt.subplots(figsize=(10,4))\n",
    "\n",
    "big_time_axis_rise = np.linspace(0,t1_R,num = 100)\n",
    "ax.plot(big_time_axis_rise, SuperNova_CurveRise(big_time_axis_rise, Amplitude_R, Beta_R, t0_R, trise_R))\n",
    "\n",
    "big_time_axis_fall = np.linspace(t1_R,end_A,num = 100)\n",
    "ax.plot(big_time_axis_fall, SuperNova_CurveFall(big_time_axis_fall, Amplitude_R, Beta_R, t0_R, t1_R, trise_R, tfall_R))\n",
    "\n",
    "ax.scatter(time_axis, Y_actual)\n",
    "ax.set_xlabel('x')\n",
    "ax.set_ylabel('y_actual')"
   ]
  },
  {
   "cell_type": "code",
   "execution_count": null,
   "metadata": {},
   "outputs": [],
   "source": []
  },
  {
   "cell_type": "code",
   "execution_count": null,
   "metadata": {},
   "outputs": [],
   "source": []
  }
 ],
 "metadata": {
  "kernelspec": {
   "display_name": "Python 3",
   "language": "python",
   "name": "python3"
  },
  "language_info": {
   "codemirror_mode": {
    "name": "ipython",
    "version": 3
   },
   "file_extension": ".py",
   "mimetype": "text/x-python",
   "name": "python",
   "nbconvert_exporter": "python",
   "pygments_lexer": "ipython3",
   "version": "3.7.4"
  }
 },
 "nbformat": 4,
 "nbformat_minor": 4
}
