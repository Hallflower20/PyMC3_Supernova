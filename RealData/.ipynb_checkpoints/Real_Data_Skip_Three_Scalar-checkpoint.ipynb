{
 "cells": [
  {
   "cell_type": "code",
   "execution_count": 1,
   "metadata": {},
   "outputs": [
    {
     "name": "stdout",
     "output_type": "stream",
     "text": [
      "Running on PyMC3 v3.8\n"
     ]
    }
   ],
   "source": [
    "%matplotlib inline\n",
    "import numpy as np\n",
    "import theano.tensor as tt\n",
    "import pymc3 as pm\n",
    "from scipy import stats\n",
    "from pymc3 import Continuous\n",
    "from theano import tensor \n",
    "from pymc3 import Model, Normal, Slice\n",
    "from pymc3 import sample\n",
    "from pymc3 import traceplot\n",
    "from pymc3.distributions import Interpolated\n",
    "from theano import as_op\n",
    "import theano.tensor as tt\n",
    "import numpy as np\n",
    "from scipy import stats\n",
    "import threading\n",
    "from multiprocessing.pool import ThreadPool\n",
    "from astropy.table import Table\n",
    "#exp, log, sqrt\n",
    "\n",
    "import seaborn as sns\n",
    "import matplotlib.pyplot as plt\n",
    "\n",
    "sns.set_context('notebook')\n",
    "plt.style.use('seaborn-darkgrid')\n",
    "print('Running on PyMC3 v{}'.format(pm.__version__))\n",
    "core_count = 16"
   ]
  },
  {
   "cell_type": "code",
   "execution_count": 2,
   "metadata": {},
   "outputs": [],
   "source": [
    "def SuperNova_CurveRise_Scalar(t, A, B, t0, trise, scalar):\n",
    "    return ((A+B*(t-t0))/(1+np.exp(-(t-t0)/trise)))+scalar\n",
    "def SuperNova_CurveFall_Scalar(t, A, B, t0, gamma, trise, tfall, scalar):\n",
    "    return (A + B*((gamma+t0)-t0))*np.exp(-(t-(gamma+t0))/tfall)/(1+np.exp(-(t-t0)/trise))+scalar"
   ]
  },
  {
   "cell_type": "code",
   "execution_count": 3,
   "metadata": {},
   "outputs": [],
   "source": [
    "def SuperNova_CurveRise(t, A, B, t0, trise):\n",
    "    return ((A+B*(t-t0))/(1+np.exp(-(t-t0)/trise)))\n",
    "def SuperNova_CurveFall(t, A, B, t0, gamma, trise, tfall):\n",
    "    return (A + B*((gamma+t0)-t0))*np.exp(-(t-(gamma+t0))/tfall)/(1+np.exp(-(t-t0)/trise))"
   ]
  },
  {
   "cell_type": "code",
   "execution_count": 4,
   "metadata": {},
   "outputs": [],
   "source": [
    "def from_posteriors(param, samples):\n",
    "    smins = []\n",
    "    smaxs = []\n",
    "    for i in samples:\n",
    "        smins.append(np.min(i[param]))\n",
    "        smaxs.append(np.max(i[param]))\n",
    "    \n",
    "    smin = np.min(smins)\n",
    "    smax = np.max(smaxs)\n",
    "    width = smax - smin\n",
    "\n",
    "    x = np.linspace(smin, smax, 1000)\n",
    "    ys = []\n",
    "    for i in samples:\n",
    "        ys.append(stats.gaussian_kde(i[param])(x))\n",
    "    y = np.prod(ys, axis = 0)\n",
    "    return Interpolated(param, x, y)"
   ]
  },
  {
   "cell_type": "code",
   "execution_count": 5,
   "metadata": {},
   "outputs": [],
   "source": [
    "def from_posterior(param, samples):\n",
    "    smin, smax = np.min(samples[param]), np.max(samples[param])\n",
    "    width = smax - smin\n",
    "    x = np.linspace(smin, smax, 1000)\n",
    "    y = stats.gaussian_kde(samples[param])(x)\n",
    "    return Interpolated(param, x, y)"
   ]
  },
  {
   "cell_type": "code",
   "execution_count": 6,
   "metadata": {},
   "outputs": [],
   "source": [
    "def make_curve(param, samples):\n",
    "    smins = []\n",
    "    smaxs = []\n",
    "\n",
    "    for i in samples:\n",
    "        smins.append(np.min(i[param]))\n",
    "        smaxs.append(np.max(i[param]))\n",
    "\n",
    "    \n",
    "\n",
    "    smin = np.min(smins)\n",
    "    smax = np.max(smaxs)\n",
    "    width = smax - smin\n",
    "\n",
    "    x, step = np.linspace(smin, smax, 1000, retstep = True)\n",
    "    ys = []\n",
    "    for i in samples:\n",
    "        ys.append(stats.gaussian_kde(i[param])(x))\n",
    "    y = np.prod(ys, axis = 0)\n",
    "    y = y + np.exp(-100)\n",
    "    y_norm = y / (np.sum(y)*step)\n",
    "    return param, x, y_norm\n",
    "def make_prior(posterior_param):\n",
    "    return Interpolated(posterior_param[0],posterior_param[1],posterior_param[2])"
   ]
  },
  {
   "cell_type": "code",
   "execution_count": 7,
   "metadata": {},
   "outputs": [],
   "source": [
    "def model_run(model,i,trace, iterations, core):\n",
    "    with model:\n",
    "        # 10000 posterior samples\n",
    "        trace[i] = pm.sample(iterations, cores = core)"
   ]
  },
  {
   "cell_type": "code",
   "execution_count": 8,
   "metadata": {},
   "outputs": [],
   "source": [
    "ztf_data = Table.read(\"flux_obs_19yvq.csv\")"
   ]
  },
  {
   "cell_type": "code",
   "execution_count": 9,
   "metadata": {},
   "outputs": [],
   "source": [
    "filter_types = np.unique(ztf_data[\"filt\"])[3:6]\n",
    "filter_number = np.size(filter_types)"
   ]
  },
  {
   "cell_type": "code",
   "execution_count": 10,
   "metadata": {},
   "outputs": [],
   "source": [
    "end_A = np.max(ztf_data[\"t_restframe\"])"
   ]
  },
  {
   "cell_type": "code",
   "execution_count": 11,
   "metadata": {},
   "outputs": [
    {
     "name": "stdout",
     "output_type": "stream",
     "text": [
      "g\n",
      "i\n",
      "r\n"
     ]
    }
   ],
   "source": [
    "#This is the test data we are going to use for a test\n",
    "time_axis_filters = []\n",
    "Y_observed_filter = []\n",
    "Y_unc = []\n",
    "scale = 10 ** (-1 * np.log10(np.min(ztf_data[\"flux_Jy\"])))\n",
    "ztf_data = ztf_data[3:-1]\n",
    "for i in filter_types:\n",
    "    print(i)\n",
    "    time_axis_filters.append(np.asarray(ztf_data[\"t_restframe\"][np.where(ztf_data[\"filt\"] == i)]))\n",
    "    light_data = np.asarray(ztf_data[\"flux_Jy\"][np.where(ztf_data[\"filt\"] == i)])\n",
    "    Y_observed_filter.append(light_data * scale)\n",
    "    light_data_unc = np.asarray(ztf_data[\"flux_unc_Jy\"][np.where(ztf_data[\"filt\"] == i)])\n",
    "    Y_unc.append(light_data_unc * scale)"
   ]
  },
  {
   "cell_type": "code",
   "execution_count": 12,
   "metadata": {},
   "outputs": [
    {
     "data": {
      "text/plain": [
       "Text(0.5, 1.0, 'Observed Light Curve')"
      ]
     },
     "execution_count": 12,
     "metadata": {},
     "output_type": "execute_result"
    },
    {
     "data": {
      "image/png": "[encoded data removed]",
      "text/plain": [
       "<Figure size 720x288 with 1 Axes>"
      ]
     },
     "metadata": {},
     "output_type": "display_data"
    }
   ],
   "source": [
    "fig, axes = plt.subplots(1, 1, sharex=True, figsize=(10,4))\n",
    "colours = [\"green\", \"indigo\", \"red\"]\n",
    "for i in range(filter_number):\n",
    "    #axes.scatter(time_axis_filters[i], Y_observed_filter[i], color = colours[i])\n",
    "    axes.errorbar(time_axis_filters[i], Y_observed_filter[i], Y_unc[i], fmt = \"o\", color = colours[i])\n",
    "\n",
    "axes.set_ylabel('Y')\n",
    "axes.set_xlabel('X1')\n",
    "plt.title(\"Observed Light Curve\")"
   ]
  },
  {
   "cell_type": "code",
   "execution_count": 13,
   "metadata": {},
   "outputs": [],
   "source": [
    "model_filters = []\n",
    "for i in range(filter_number):\n",
    "    model_filters.append(pm.Model())"
   ]
  },
  {
   "cell_type": "code",
   "execution_count": 14,
   "metadata": {},
   "outputs": [],
   "source": [
    "for i in range(filter_number):\n",
    "    with model_filters[i]:\n",
    "\n",
    "        # Priors for unknown model parameters\n",
    "\n",
    "        trise = pm.Uniform('trise', lower = 0.01, upper = 50)\n",
    "        tfall = pm.Uniform('tfall', lower = 1, upper = 300)\n",
    "        Amp_Guess = np.max(Y_observed_filter[i])-np.min(Y_observed_filter[i])\n",
    "        Amplitude = pm.Normal('Amplitude', mu=Amp_Guess, sigma=Amp_Guess/2)\n",
    "        Beta = pm.Uniform('Beta', lower = -np.max(Y_observed_filter[i])/150, upper = 0)\n",
    "        t0 = pm.Uniform('t0', lower = np.min(time_axis_filters[i]), upper = np.max(time_axis_filters[i]))\n",
    "        sigma_est = np.sqrt(np.sum(Y_unc[i]**2))\n",
    "        sigma = pm.HalfNormal('sigma', sigma=sigma_est)\n",
    "        scalar = pm.Uniform('scalar', lower = 0, upper = np.max(Y_observed_filter[i]))\n",
    "\n",
    "        #gamma = pm.Uniform('gamma', lower = np.min(time_axis), upper = np.max(time_axis), testval = (least_slope[0]-))\n",
    "        no_p = pm.Normal.dist(mu = 5, sigma = 5)\n",
    "        yes_p = pm.Normal.dist(mu = 60, sigma = 30)\n",
    "\n",
    "        gamma = pm.Mixture(\"gamma\", w=[2/3,1/3], comp_dists = [no_p, yes_p])\n",
    "        #gamma = pm.math.sum(pm.Normal(\"no_p\", mu = 5, sigma = 5),pm.Normal(\"yes_p\", mu = 60, sigma = 30))\n",
    "\n",
    "        # Expected value of outcome\n",
    "        mu_rise = SuperNova_CurveRise_Scalar(time_axis_filters[i], Amplitude, Beta, t0, trise, scalar)\n",
    "        mu_fall = SuperNova_CurveFall_Scalar(time_axis_filters[i], Amplitude, Beta, t0, gamma, trise, tfall, scalar)\n",
    "\n",
    "        mu_switch = pm.math.switch(gamma+t0 >= time_axis_filters[i], mu_rise, mu_fall)\n",
    "\n",
    "        # Likelihood (sampling distribution) of observations\n",
    "        Y_obs = pm.Normal('Y_obs', mu=mu_switch, sigma=sigma, observed=Y_observed_filter[i])\n",
    "    \n",
    "    "
   ]
  },
  {
   "cell_type": "code",
   "execution_count": 15,
   "metadata": {},
   "outputs": [
    {
     "name": "stderr",
     "output_type": "stream",
     "text": [
      "logp = -901.09, ||grad|| = 0.095367: 100%|██████████| 41/41 [00:00<00:00, 1186.44it/s]  \n",
      "logp = -382.37, ||grad|| = 41.161: 100%|██████████| 179/179 [00:00<00:00, 1425.95it/s] \n",
      "logp = -699.99, ||grad|| = 0.21742: 100%|██████████| 95/95 [00:00<00:00, 1349.13it/s]   \n"
     ]
    }
   ],
   "source": [
    "map_estimate = []\n",
    "for basic_model in model_filters:\n",
    "    map_estimate.append(pm.find_MAP(model=basic_model))"
   ]
  },
  {
   "cell_type": "code",
   "execution_count": 16,
   "metadata": {},
   "outputs": [
    {
     "name": "stderr",
     "output_type": "stream",
     "text": [
      "Auto-assigning NUTS sampler...\n",
      "Initializing NUTS using jitter+adapt_diag...\n",
      "Multiprocess sampling (16 chains in 16 jobs)\n",
      "NUTS: [gamma, scalar, sigma, t0, Beta, Amplitude, tfall, trise]\n",
      "Sampling 16 chains, 0 divergences: 100%|██████████| 1608000/1608000 [19:31<00:00, 1372.58draws/s]\n",
      "The acceptance probability does not match the target. It is 0.8908246637855588, but should be close to 0.8. Try to increase the number of tuning steps.\n",
      "The acceptance probability does not match the target. It is 0.8786862948108167, but should be close to 0.8. Try to increase the number of tuning steps.\n",
      "The acceptance probability does not match the target. It is 0.8849176597129693, but should be close to 0.8. Try to increase the number of tuning steps.\n",
      "The acceptance probability does not match the target. It is 0.8852531734932532, but should be close to 0.8. Try to increase the number of tuning steps.\n",
      "The acceptance probability does not match the target. It is 0.8870500098116962, but should be close to 0.8. Try to increase the number of tuning steps.\n",
      "The acceptance probability does not match the target. It is 0.8996340678616049, but should be close to 0.8. Try to increase the number of tuning steps.\n",
      "The acceptance probability does not match the target. It is 0.9032832025794727, but should be close to 0.8. Try to increase the number of tuning steps.\n",
      "The acceptance probability does not match the target. It is 0.8868625551459024, but should be close to 0.8. Try to increase the number of tuning steps.\n",
      "The acceptance probability does not match the target. It is 0.8958914203520222, but should be close to 0.8. Try to increase the number of tuning steps.\n",
      "The acceptance probability does not match the target. It is 0.8933733248376801, but should be close to 0.8. Try to increase the number of tuning steps.\n",
      "The rhat statistic is larger than 1.4 for some parameters. The sampler did not converge.\n",
      "The estimated number of effective samples is smaller than 200 for some parameters.\n",
      "Auto-assigning NUTS sampler...\n",
      "Initializing NUTS using jitter+adapt_diag...\n",
      "Multiprocess sampling (16 chains in 16 jobs)\n",
      "NUTS: [gamma, scalar, sigma, t0, Beta, Amplitude, tfall, trise]\n",
      "Sampling 16 chains, 57,837 divergences: 100%|██████████| 1608000/1608000 [34:39<00:00, 773.12draws/s] \n",
      "The acceptance probability does not match the target. It is 0.9104076756300536, but should be close to 0.8. Try to increase the number of tuning steps.\n",
      "There were 22 divergences after tuning. Increase `target_accept` or reparameterize.\n",
      "The acceptance probability does not match the target. It is 0.9204875842472804, but should be close to 0.8. Try to increase the number of tuning steps.\n",
      "There were 3 divergences after tuning. Increase `target_accept` or reparameterize.\n",
      "The acceptance probability does not match the target. It is 0.8954418430048174, but should be close to 0.8. Try to increase the number of tuning steps.\n",
      "There were 39 divergences after tuning. Increase `target_accept` or reparameterize.\n",
      "The acceptance probability does not match the target. It is 0.9268940745052063, but should be close to 0.8. Try to increase the number of tuning steps.\n",
      "There were 4 divergences after tuning. Increase `target_accept` or reparameterize.\n",
      "The acceptance probability does not match the target. It is 0.9235865395071601, but should be close to 0.8. Try to increase the number of tuning steps.\n",
      "There were 51 divergences after tuning. Increase `target_accept` or reparameterize.\n",
      "The acceptance probability does not match the target. It is 0.9099697585112482, but should be close to 0.8. Try to increase the number of tuning steps.\n",
      "There were 9 divergences after tuning. Increase `target_accept` or reparameterize.\n",
      "There were 57679 divergences after tuning. Increase `target_accept` or reparameterize.\n",
      "The acceptance probability does not match the target. It is 0.09742352585402164, but should be close to 0.8. Try to increase the number of tuning steps.\n",
      "The acceptance probability does not match the target. It is 0.9411791276580886, but should be close to 0.8. Try to increase the number of tuning steps.\n",
      "There was 1 divergence after tuning. Increase `target_accept` or reparameterize.\n",
      "The acceptance probability does not match the target. It is 0.9388488603683356, but should be close to 0.8. Try to increase the number of tuning steps.\n",
      "There were 7 divergences after tuning. Increase `target_accept` or reparameterize.\n",
      "The acceptance probability does not match the target. It is 0.9293621999436102, but should be close to 0.8. Try to increase the number of tuning steps.\n",
      "There was 1 divergence after tuning. Increase `target_accept` or reparameterize.\n",
      "The acceptance probability does not match the target. It is 0.9370465146197337, but should be close to 0.8. Try to increase the number of tuning steps.\n",
      "There were 8 divergences after tuning. Increase `target_accept` or reparameterize.\n",
      "The acceptance probability does not match the target. It is 0.9239205266445075, but should be close to 0.8. Try to increase the number of tuning steps.\n",
      "There was 1 divergence after tuning. Increase `target_accept` or reparameterize.\n",
      "The acceptance probability does not match the target. It is 0.9369006840308174, but should be close to 0.8. Try to increase the number of tuning steps.\n",
      "There were 6 divergences after tuning. Increase `target_accept` or reparameterize.\n",
      "The acceptance probability does not match the target. It is 0.8932398672682627, but should be close to 0.8. Try to increase the number of tuning steps.\n",
      "There were 6 divergences after tuning. Increase `target_accept` or reparameterize.\n",
      "The acceptance probability does not match the target. It is 0.9345355934266664, but should be close to 0.8. Try to increase the number of tuning steps.\n",
      "The number of effective samples is smaller than 10% for some parameters.\n",
      "Auto-assigning NUTS sampler...\n",
      "Initializing NUTS using jitter+adapt_diag...\n",
      "Multiprocess sampling (16 chains in 16 jobs)\n",
      "NUTS: [gamma, scalar, sigma, t0, Beta, Amplitude, tfall, trise]\n",
      "Sampling 16 chains, 0 divergences: 100%|██████████| 1608000/1608000 [29:00<00:00, 923.88draws/s] \n",
      "The acceptance probability does not match the target. It is 0.8841046614853568, but should be close to 0.8. Try to increase the number of tuning steps.\n",
      "The acceptance probability does not match the target. It is 0.8799486181557631, but should be close to 0.8. Try to increase the number of tuning steps.\n",
      "The acceptance probability does not match the target. It is 0.8916215384826872, but should be close to 0.8. Try to increase the number of tuning steps.\n",
      "The acceptance probability does not match the target. It is 0.891008831432777, but should be close to 0.8. Try to increase the number of tuning steps.\n",
      "The acceptance probability does not match the target. It is 0.8908011783383168, but should be close to 0.8. Try to increase the number of tuning steps.\n",
      "The acceptance probability does not match the target. It is 0.9036638041715453, but should be close to 0.8. Try to increase the number of tuning steps.\n",
      "The acceptance probability does not match the target. It is 0.8856298962309508, but should be close to 0.8. Try to increase the number of tuning steps.\n",
      "The acceptance probability does not match the target. It is 0.888088126061014, but should be close to 0.8. Try to increase the number of tuning steps.\n",
      "The acceptance probability does not match the target. It is 0.8997435549238435, but should be close to 0.8. Try to increase the number of tuning steps.\n",
      "The acceptance probability does not match the target. It is 0.8844067765809697, but should be close to 0.8. Try to increase the number of tuning steps.\n"
     ]
    }
   ],
   "source": [
    "trace = []\n",
    "for basic_model in model_filters:\n",
    "    with basic_model:\n",
    "        # 10000 posterior samples\n",
    "        iterations = int(1600000/core_count)\n",
    "        trace.append(pm.sample(iterations, cores = core_count))"
   ]
  },
  {
   "cell_type": "code",
   "execution_count": null,
   "metadata": {},
   "outputs": [],
   "source": [
    "for posterior in trace:\n",
    "    pm.plot_posterior(posterior)"
   ]
  },
  {
   "cell_type": "code",
   "execution_count": null,
   "metadata": {},
   "outputs": [],
   "source": [
    "smin1, smax1 = np.min(trace[0][\"t0\"]), np.max(trace[0][\"t0\"])\n",
    "smin2, smax2 = np.min(trace[1][\"t0\"]), np.max(trace[1][\"t0\"])\n",
    "smin3, smax3 = np.min(trace[2][\"t0\"]), np.max(trace[2][\"t0\"])\n",
    "smin = np.min([smin1,smin2,smin3])\n",
    "smax = np.max([smax1,smax2,smax3])\n",
    "width = smax - smin\n",
    "\n",
    "x = np.linspace(smin, smax, 1000)\n",
    "y1 = stats.gaussian_kde(trace[0][\"t0\"])(x)\n",
    "y2 = stats.gaussian_kde(trace[1][\"t0\"])(x)\n",
    "y3 = stats.gaussian_kde(trace[2][\"t0\"])(x)\n",
    "#plt.plot(x, y1)\n",
    "#plt.plot(x, y2)\n",
    "#plt.plot(x, y3)\n",
    "plt.plot(x, y1*y2*y3)"
   ]
  },
  {
   "cell_type": "code",
   "execution_count": null,
   "metadata": {},
   "outputs": [],
   "source": [
    "combined_model = []\n",
    "for i in range(filter_number):\n",
    "    combined_model.append(pm.Model())"
   ]
  },
  {
   "cell_type": "code",
   "execution_count": null,
   "metadata": {},
   "outputs": [],
   "source": [
    "#time_axis = np.hstack(time_axis_filters)\n",
    "#Y_observed = np.hstack(Y_observed_filter)\n",
    "#Y_actual = np.hstack(Y_actual_filter)\n",
    "'''\n",
    "trise = from_posterior(\"trise\", trace)\n",
    "\n",
    "tfall = from_posterior(\"tfall\", trace)\n",
    "\n",
    "Amplitude = from_posterior(\"Amplitude\", trace)\n",
    "\n",
    "Beta = from_posterior(\"Beta\", trace)\n",
    "\n",
    "t0 = from_posterior(\"t0\", trace)\n",
    "\n",
    "sigma = from_posterior(\"sigma\", trace)\n",
    "\n",
    "gamma = from_posterior(\"gamma\", trace)\n",
    "'''"
   ]
  },
  {
   "cell_type": "code",
   "execution_count": null,
   "metadata": {},
   "outputs": [],
   "source": [
    "name, x, y = make_curve(\"t0\", trace)"
   ]
  },
  {
   "cell_type": "code",
   "execution_count": null,
   "metadata": {},
   "outputs": [],
   "source": [
    "plt.plot(x,y)\n",
    "plt.yscale(\"log\")"
   ]
  },
  {
   "cell_type": "code",
   "execution_count": null,
   "metadata": {},
   "outputs": [],
   "source": [
    "trise_posterior = make_curve(\"trise\", trace)\n",
    "\n",
    "tfall_posterior = make_curve(\"tfall\", trace)\n",
    "\n",
    "Amplitude_posterior = make_curve(\"Amplitude\", trace)\n",
    "\n",
    "Beta_posterior = make_curve(\"Beta\", trace)\n",
    "\n",
    "t0_posterior = make_curve(\"t0\", trace)\n",
    "\n",
    "sigma_posterior = make_curve(\"sigma\", trace)\n",
    "\n",
    "gamma_posterior = make_curve(\"gamma\", trace)"
   ]
  },
  {
   "cell_type": "code",
   "execution_count": null,
   "metadata": {},
   "outputs": [],
   "source": [
    "for i in range(filter_number):\n",
    "    with combined_model[i]:\n",
    "        trise = make_prior(trise_posterior)\n",
    "\n",
    "        tfall = make_prior(tfall_posterior)\n",
    "\n",
    "        Amplitude = make_prior(Amplitude_posterior)\n",
    "\n",
    "        Beta = make_prior(Beta_posterior)\n",
    "\n",
    "        t0 = make_prior(t0_posterior)\n",
    "\n",
    "        sigma = make_prior(sigma_posterior)\n",
    "\n",
    "        gamma = make_prior(gamma_posterior)\n",
    "        \n",
    "        scalar = from_posterior(\"scalar\", trace[i])\n",
    "\n",
    "        # Expected value of outcome\n",
    "        mu_rise = SuperNova_CurveRise_Scalar(time_axis_filters[i], Amplitude, Beta, t0, trise, scalar)\n",
    "        mu_fall = SuperNova_CurveFall_Scalar(time_axis_filters[i], Amplitude, Beta, t0, gamma, trise, tfall, scalar)\n",
    "\n",
    "        mu_switch = pm.math.switch(gamma+t0 >= time_axis_filters[i], mu_rise, mu_fall)\n",
    "\n",
    "        # Likelihood (sampling distribution) of observations\n",
    "        Y_obs = pm.Normal('Y_obs', mu=mu_switch, sigma=sigma, observed=Y_observed_filter[i])"
   ]
  },
  {
   "cell_type": "code",
   "execution_count": null,
   "metadata": {},
   "outputs": [],
   "source": [
    "combined_map_estimate = []\n",
    "for i in combined_model:\n",
    "    combined_map_estimate.append(pm.find_MAP(model=i))"
   ]
  },
  {
   "cell_type": "code",
   "execution_count": null,
   "metadata": {},
   "outputs": [],
   "source": [
    "trace_all = []\n",
    "for basic_model in combined_model:\n",
    "    with basic_model:\n",
    "        # 10000 posterior samples\n",
    "        iterations = int(1600000/core_count)\n",
    "        trace_all.append(pm.sample(iterations, cores = core_count))"
   ]
  },
  {
   "cell_type": "code",
   "execution_count": null,
   "metadata": {},
   "outputs": [],
   "source": [
    "for i in trace_all:\n",
    "    pm.traceplot(i)"
   ]
  },
  {
   "cell_type": "code",
   "execution_count": null,
   "metadata": {},
   "outputs": [],
   "source": [
    "summary_tables = []\n",
    "for i in trace_all:\n",
    "    summary_tables.append(pm.summary(i))"
   ]
  },
  {
   "cell_type": "code",
   "execution_count": null,
   "metadata": {},
   "outputs": [],
   "source": [
    "trise_R = []\n",
    "tfall_R = []\n",
    "Amplitude_R = []\n",
    "Beta_R = []\n",
    "t0_R = []\n",
    "gamma_R = []\n",
    "scalar_R = []\n",
    "for i in summary_tables:\n",
    "    trise_R.append(i[\"mean\"][\"trise\"])\n",
    "    tfall_R.append(i[\"mean\"][\"tfall\"])\n",
    "    Amplitude_R.append(i[\"mean\"][\"Amplitude\"]/scale)\n",
    "    Beta_R.append(i[\"mean\"][\"Beta\"]/scale)\n",
    "    t0_R.append(i[\"mean\"][\"t0\"])\n",
    "    gamma_R.append(i[\"mean\"][\"gamma\"])\n",
    "    scalar_R.append(i[\"mean\"][\"scalar\"]/scale)"
   ]
  },
  {
   "cell_type": "code",
   "execution_count": null,
   "metadata": {},
   "outputs": [],
   "source": [
    "print(trise_R)\n",
    "print(tfall_R)\n",
    "print(Amplitude_R)\n",
    "print(Beta_R)\n",
    "print(t0_R)\n",
    "print(gamma_R)\n",
    "print(scalar_R)"
   ]
  },
  {
   "cell_type": "code",
   "execution_count": null,
   "metadata": {},
   "outputs": [],
   "source": [
    "%matplotlib inline\n",
    "fig, ax = plt.subplots(figsize=(10,4))\n",
    "colours = [\"green\", \"indigo\", \"red\"]\n",
    "\n",
    "for i in range(filter_number):\n",
    "    big_time_axis_rise = np.linspace(0,t0_R[i]+gamma_R[i],num = 100)\n",
    "    ax.plot(big_time_axis_rise, SuperNova_CurveRise_Scalar(big_time_axis_rise, Amplitude_R[i], Beta_R[i], t0_R[i], trise_R[i], scalar_R[i]), color = colours[i])\n",
    "\n",
    "for i in range(filter_number):\n",
    "    big_time_axis_fall = np.linspace(t0_R[i]+gamma_R[i],end_A,num = 100)\n",
    "    ax.plot(big_time_axis_fall, SuperNova_CurveFall_Scalar(big_time_axis_fall, Amplitude_R[i], Beta_R[i], t0_R[i], gamma_R[i], trise_R[i], tfall_R[i], scalar_R[i]), color = colours[i])\n",
    "\n",
    "for i in range(filter_number):\n",
    "    ax.errorbar(time_axis_filters[i], Y_observed_filter[i]/scale, Y_unc[i]/scale, fmt = \"o\", color = colours[i])\n",
    "    \n",
    "ax.set_xlabel('x')\n",
    "ax.set_ylabel('y_observed')"
   ]
  },
  {
   "cell_type": "code",
   "execution_count": null,
   "metadata": {},
   "outputs": [],
   "source": []
  }
 ],
 "metadata": {
  "kernelspec": {
   "display_name": "Python 3",
   "language": "python",
   "name": "python3"
  },
  "language_info": {
   "codemirror_mode": {
    "name": "ipython",
    "version": 3
   },
   "file_extension": ".py",
   "mimetype": "text/x-python",
   "name": "python",
   "nbconvert_exporter": "python",
   "pygments_lexer": "ipython3",
   "version": "3.7.7"
  }
 },
 "nbformat": 4,
 "nbformat_minor": 4
}
